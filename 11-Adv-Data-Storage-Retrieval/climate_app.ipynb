{
 "cells": [
  {
   "cell_type": "code",
   "execution_count": null,
   "metadata": {},
   "outputs": [
    {
     "name": "stderr",
     "output_type": "stream",
     "text": [
      " * Running on http://127.0.0.1:5000/ (Press CTRL+C to quit)\n",
      "127.0.0.1 - - [05/Aug/2018 18:53:57] \"GET / HTTP/1.1\" 404 -\n",
      "127.0.0.1 - - [05/Aug/2018 18:54:21] \"GET /api/v1.0/precipitation HTTP/1.1\" 200 -\n"
     ]
    },
    {
     "name": "stdout",
     "output_type": "stream",
     "text": [
      "{'2017-08-05': None, '2017-08-06': None, '2017-08-07': 0.05, '2017-08-08': 0.34, '2017-08-09': 0.15, '2017-08-10': 0.07, '2017-08-11': None, '2017-08-12': 0.14, '2017-08-13': None, '2017-08-14': 0.22, '2017-08-15': 0.42, '2017-08-18': None, '2017-08-19': 0.09, '2017-08-20': None, '2017-08-21': 0.56, '2017-08-22': 0.5, '2017-08-23': 0.45, '2017-08-16': 0.42, '2017-08-17': 0.13}\n"
     ]
    }
   ],
   "source": [
    "%matplotlib notebook\n",
    "from matplotlib import style\n",
    "style.use('fivethirtyeight')\n",
    "import matplotlib.pyplot as plt\n",
    "import datetime as dt\n",
    "import numpy as np\n",
    "import pandas as pd\n",
    "\n",
    "# Python SQL toolkit and Object Relational Mapper\n",
    "import sqlalchemy\n",
    "from sqlalchemy.ext.automap import automap_base\n",
    "from sqlalchemy.orm import Session\n",
    "from sqlalchemy import create_engine, func , inspect, and_\n",
    "from flask import Flask, jsonify\n",
    "engine = create_engine(\"sqlite:///hawaii.sqlite\")\n",
    " # reflect an existing database into a new model\n",
    "Base = automap_base()\n",
    "# reflect the tables\n",
    "Base.prepare(engine, reflect=True)\n",
    " # We can view all of the classes that automap found\n",
    "Base.classes.keys()\n",
    " # Save references to each table\n",
    "Measurement = Base.classes.measurement\n",
    "Station = Base.classes.station\n",
    " # Create our session (link) from Python to the DB\n",
    "session = Session(engine)\n",
    "app = Flask(__name__)\n",
    "\n",
    "@app.route(\"/api/v1.0/precipitation\")\n",
    "def list_precipitation():\n",
    "    # Calculate the date 1 year ago from today\n",
    "    year_ago = dt.date.today() - dt.timedelta(days=365)\n",
    "    # Perform a query to retrieve the data and precipitation scores\n",
    "    results = session.query(Measurement.date, Measurement.prcp).filter(Measurement.date >= year_ago).all()\n",
    "    dic = {}\n",
    "    for d, p in results:\n",
    "        dic[d] = p\n",
    "    print(dic)\n",
    "    return jsonify(dic)\n",
    "\n",
    "@app.route(\"/api/v1.0/stations\")\n",
    "def list_stations():\n",
    "    stations = session.query(Station.station).group_by(Station.station).all()\n",
    "    print(stations)\n",
    "    return jsonify(stations)\n",
    "@app.route(\"/api/v1.0/tobs\")\n",
    "def list_tobs():\n",
    "    year_ago = dt.date.today() - dt.timedelta(days=365)\n",
    "    temperature = session.query(Measurement.tobs).\\\n",
    "    filter(and_(Measurement.station == 'USC00519281', Measurement.date >= year_ago)).all()\n",
    "    return jsonify(temperature)\n",
    "@app.route(\"/api/v1.0/<start>\")\n",
    "def start_date(start):\n",
    "    print(start)\n",
    "    result = session.query(func.min(Measurement.tobs), func.avg(Measurement.tobs), func.max(Measurement.tobs))\\\n",
    "           .filter(Measurement.date >= start).first()\n",
    "    print(result)\n",
    "    return jsonify(result)\n",
    "\n",
    "@app.route(\"/api/v1.0/<start>/<end>\")\n",
    "def start_end_date(start,end):\n",
    "    print(start)\n",
    "    print(end)\n",
    "    start_end = session.query(func.min(Measurement.tobs), func.avg(Measurement.tobs), func.max(Measurement.tobs))\\\n",
    "           .filter(and_(Measurement.date >= start,Measurement.date <= end)).all()\n",
    "    print(start_end)\n",
    "    return jsonify(start_end)\n",
    "\n",
    "if __name__ == \"__main__\":\n",
    "    app.run()"
   ]
  },
  {
   "cell_type": "code",
   "execution_count": null,
   "metadata": {},
   "outputs": [],
   "source": []
  }
 ],
 "metadata": {
  "kernelspec": {
   "display_name": "Python 3",
   "language": "python",
   "name": "python3"
  },
  "language_info": {
   "codemirror_mode": {
    "name": "ipython",
    "version": 3
   },
   "file_extension": ".py",
   "mimetype": "text/x-python",
   "name": "python",
   "nbconvert_exporter": "python",
   "pygments_lexer": "ipython3",
   "version": "3.6.4"
  }
 },
 "nbformat": 4,
 "nbformat_minor": 2
}
