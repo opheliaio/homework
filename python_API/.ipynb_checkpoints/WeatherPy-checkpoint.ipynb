{
 "cells": [
  {
   "cell_type": "code",
   "execution_count": null,
   "metadata": {},
   "outputs": [],
   "source": [
    "# dependencies\n",
    "import random\n",
    "import requests\n",
    "import json\n",
    "import pandas as pd\n",
    "import matplotlib.pyplot as plt\n",
    "from citipy import citipy\n",
    "from config import api_key\n",
    "\n",
    "# init stuffs\n",
    "rand_cities = []\n",
    "url = \"http://api.openweathermap.org/data/2.5/weather?\" + \"appid=\" + api_key \n",
    "units = \"imperial\"\n",
    "\n",
    "# created random lat & long func\n",
    "def lat_random():\n",
    "    # rand between 90\n",
    "    return round(90*random.random()*random.uniform(-1,1),4)\n",
    "\n",
    "def long_random():\n",
    "    # random between 180\n",
    "    return round(180*random.random()*random.uniform(-1,1),4)\n",
    "\n",
    "i = 1\n",
    "while i <= 500 :\n",
    "    try:\n",
    "        flag = True\n",
    "        lat = lat_random()\n",
    "        long = long_random()\n",
    "        city = citipy.nearest_city(lat,long)\n",
    "        max_temp = requests.get(url + \"&q=\" + city.city_name + \"&units=\" + units).json()[\"main\"][\"temp_max\"]\n",
    "        humidity = requests.get(url + \"&q=\" + city.city_name + \"&units=\" + units).json()[\"main\"][\"humidity\"]\n",
    "        cloudiness = requests.get(url + \"&q=\" + city.city_name + \"&units=\" + units).json()[\"clouds\"][\"all\"]\n",
    "        wind_speed = requests.get(url + \"&q=\" + city.city_name + \"&units=\" + units).json()[\"wind\"][\"speed\"]\n",
    "        url2 = requests.get(url + \"&q=\" + city.city_name + \"&units=\" + units).url\n",
    "        rand_cities.append((lat,long,city.city_name,city.country_code, max_temp, humidity, cloudiness, wind_speed, url2))\n",
    "\n",
    "    except KeyError:\n",
    "        pass\n",
    "        flag = False\n",
    "    if flag == True:\n",
    "        i = i + 1\n",
    "\n",
    "# rand dataframe\n",
    "weather_df = pd.DataFrame(rand_cities,columns=[\"latitude\",\"longitude\",\"city\",\"country\",\"max_temp\",\"humidity\",\"cloudiness\",\"wind_speed\",\"url\"])\n",
    "weather_df.head()"
   ]
  },
  {
   "cell_type": "code",
   "execution_count": null,
   "metadata": {},
   "outputs": [],
   "source": [
    "# to csv\n",
    "weather_df.to_csv(\"ophelias_python_api_homework.csv\", index=False,header=True)"
   ]
  },
  {
   "cell_type": "code",
   "execution_count": null,
   "metadata": {},
   "outputs": [],
   "source": [
    "# print log\n",
    "print(\"------------------------------------------------------------------------------------------------\")\n",
    "print(\"Beginning Data Retrieval\")\n",
    "print(\"------------------------------------------------------------------------------------------------\")\n",
    "\n",
    "i = 1\n",
    "for i in range(len(weather_df)):\n",
    "    print(\"City Number: \" + str(i+1) + \" of 500 | City Name: \" + weather_df[\"city\"].iloc[i] + \"| \\n URL:\" + weather_df[\"url\"].iloc[i])\n",
    "    \n",
    "print(\"------------------------------------------------------------------------------------------------\")\n",
    "print(\"End of Data Retrieval\")\n",
    "print(\"------------------------------------------------------------------------------------------------\")"
   ]
  },
  {
   "cell_type": "code",
   "execution_count": null,
   "metadata": {},
   "outputs": [],
   "source": [
    "# City Latitude vs Max Temperature\n",
    "plt.scatter(weather_df[\"latitude\"],\n",
    "            weather_df[\"max_temp\"],\n",
    "#             s=<var>, \n",
    "            c=\"blue\",\n",
    "            alpha=0.8, \n",
    "            edgecolors=\"Black\")\n",
    "\n",
    "plt.title(\"Max Temperature vs Lattitude on 07/30/18\")\n",
    "plt.xlabel(\"Latitude\")\n",
    "plt.ylabel(\"Max Temperature (F)\")\n",
    "plt.grid(True)\n",
    "plt.savefig(\"lat_vs_temp.png\")\n",
    "plt.show()"
   ]
  },
  {
   "cell_type": "code",
   "execution_count": null,
   "metadata": {},
   "outputs": [],
   "source": [
    "# City Latitude vs Humidity\n",
    "plt.scatter(weather_df[\"latitude\"],\n",
    "            weather_df[\"humidity\"],\n",
    "#             s=<var>, \n",
    "            c=\"blue\",\n",
    "            alpha=0.8, \n",
    "            edgecolors=\"Black\")\n",
    "\n",
    "plt.title(\"Humidity vs Latitude on 07/30/18\")\n",
    "plt.xlabel(\"Latitude\")\n",
    "plt.ylabel(\"Humidity (%)\")\n",
    "plt.grid(True)\n",
    "plt.savefig(\"lat_vs_humidity.png\")\n",
    "plt.show()"
   ]
  },
  {
   "cell_type": "code",
   "execution_count": null,
   "metadata": {},
   "outputs": [],
   "source": [
    "# City Latitude vs Cloudiness\n",
    "plt.scatter(weather_df[\"latitude\"],\n",
    "            weather_df[\"cloudiness\"],\n",
    "#             s=<var>, \n",
    "            c=\"blue\",\n",
    "            alpha=0.8, \n",
    "            edgecolors=\"Black\")\n",
    "\n",
    "plt.title(\"Cloudiness vs Latitude on 07/30/18\")\n",
    "plt.xlabel(\"Latitude\")\n",
    "plt.ylabel(\"Humidity (%)\")\n",
    "plt.grid(True)\n",
    "plt.savefig(\"lat_vs_cloudiness.png\")\n",
    "plt.show()"
   ]
  },
  {
   "cell_type": "code",
   "execution_count": null,
   "metadata": {},
   "outputs": [],
   "source": [
    "# City Latitude vs Wind Speed\n",
    "plt.scatter(weather_df[\"latitude\"],\n",
    "            weather_df[\"wind_speed\"],\n",
    "#             s=<var>, \n",
    "            c=\"blue\",\n",
    "            alpha=0.8, \n",
    "            edgecolors=\"Black\")\n",
    "\n",
    "plt.title(\"Wind Speed vs City Latitude on 07/30/18\")\n",
    "plt.xlabel(\"Latitude\")\n",
    "plt.ylabel(\"Wind Speed (mph)\")\n",
    "plt.grid(True)\n",
    "plt.savefig(\"lat_vs_speed.png\")\n",
    "plt.show()"
   ]
  }
 ],
 "metadata": {
  "kernelspec": {
   "display_name": "Python 3",
   "language": "python",
   "name": "python3"
  },
  "language_info": {
   "codemirror_mode": {
    "name": "ipython",
    "version": 3
   },
   "file_extension": ".py",
   "mimetype": "text/x-python",
   "name": "python",
   "nbconvert_exporter": "python",
   "pygments_lexer": "ipython3",
   "version": "3.6.4"
  }
 },
 "nbformat": 4,
 "nbformat_minor": 2
}
